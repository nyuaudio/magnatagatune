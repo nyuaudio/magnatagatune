{
 "cells": [
  {
   "cell_type": "code",
   "execution_count": 2,
   "metadata": {
    "scrolled": false
   },
   "outputs": [
    {
     "name": "stderr",
     "output_type": "stream",
     "text": [
      "Using TensorFlow backend.\n"
     ]
    }
   ],
   "source": [
    "import pandas as pd\n",
    "import numpy as np\n",
    "import matplotlib\n",
    "import matplotlib.pyplot as plt\n",
    "%matplotlib inline\n",
    "import librosa, librosa.display\n",
    "import sklearn\n",
    "import keras\n",
    "from keras.models import Model, Sequential, Input\n",
    "from keras.layers import Conv2D\n",
    "import keras.backend as K"
   ]
  },
  {
   "cell_type": "markdown",
   "metadata": {},
   "source": [
    "# Verify that we are using the GPU"
   ]
  },
  {
   "cell_type": "code",
   "execution_count": 3,
   "metadata": {},
   "outputs": [
    {
     "data": {
      "text/plain": [
       "True"
      ]
     },
     "execution_count": 3,
     "metadata": {},
     "output_type": "execute_result"
    }
   ],
   "source": [
    "import tensorflow as tf\n",
    "tf.test.is_gpu_available()"
   ]
  },
  {
   "cell_type": "markdown",
   "metadata": {},
   "source": [
    "# Load in Data and peek at dataframe"
   ]
  },
  {
   "cell_type": "markdown",
   "metadata": {},
   "source": [
    "1. 25863 mp3 mono audio files, each of 30 seconds long\n",
    "2. 188 labels associated with each song"
   ]
  },
  {
   "cell_type": "code",
   "execution_count": 4,
   "metadata": {},
   "outputs": [],
   "source": [
    "df = pd.read_csv(\"../annotations_final.csv\",sep=\"\\t\")\n",
    "df2=pd.read_csv(\"../clip_info_final.csv\",sep=\"\\t\")"
   ]
  },
  {
   "cell_type": "code",
   "execution_count": 4,
   "metadata": {},
   "outputs": [
    {
     "name": "stdout",
     "output_type": "stream",
     "text": [
      "(25863, 190) (31382, 10)\n"
     ]
    }
   ],
   "source": [
    "print(df.shape,df2.shape)"
   ]
  },
  {
   "cell_type": "code",
   "execution_count": 8,
   "metadata": {},
   "outputs": [
    {
     "data": {
      "text/html": [
       "<div>\n",
       "<style scoped>\n",
       "    .dataframe tbody tr th:only-of-type {\n",
       "        vertical-align: middle;\n",
       "    }\n",
       "\n",
       "    .dataframe tbody tr th {\n",
       "        vertical-align: top;\n",
       "    }\n",
       "\n",
       "    .dataframe thead th {\n",
       "        text-align: right;\n",
       "    }\n",
       "</style>\n",
       "<table border=\"1\" class=\"dataframe\">\n",
       "  <thead>\n",
       "    <tr style=\"text-align: right;\">\n",
       "      <th></th>\n",
       "      <th>clip_id</th>\n",
       "      <th>no voice</th>\n",
       "      <th>singer</th>\n",
       "      <th>duet</th>\n",
       "      <th>plucking</th>\n",
       "      <th>hard rock</th>\n",
       "      <th>world</th>\n",
       "      <th>bongos</th>\n",
       "      <th>harpsichord</th>\n",
       "      <th>female singing</th>\n",
       "      <th>...</th>\n",
       "      <th>rap</th>\n",
       "      <th>metal</th>\n",
       "      <th>hip hop</th>\n",
       "      <th>quick</th>\n",
       "      <th>water</th>\n",
       "      <th>baroque</th>\n",
       "      <th>women</th>\n",
       "      <th>fiddle</th>\n",
       "      <th>english</th>\n",
       "      <th>mp3_path</th>\n",
       "    </tr>\n",
       "  </thead>\n",
       "  <tbody>\n",
       "    <tr>\n",
       "      <th>0</th>\n",
       "      <td>2</td>\n",
       "      <td>0</td>\n",
       "      <td>0</td>\n",
       "      <td>0</td>\n",
       "      <td>0</td>\n",
       "      <td>0</td>\n",
       "      <td>0</td>\n",
       "      <td>0</td>\n",
       "      <td>0</td>\n",
       "      <td>0</td>\n",
       "      <td>...</td>\n",
       "      <td>0</td>\n",
       "      <td>0</td>\n",
       "      <td>0</td>\n",
       "      <td>0</td>\n",
       "      <td>0</td>\n",
       "      <td>0</td>\n",
       "      <td>0</td>\n",
       "      <td>0</td>\n",
       "      <td>0</td>\n",
       "      <td>f/american_bach_soloists-j_s__bach_solo_cantat...</td>\n",
       "    </tr>\n",
       "    <tr>\n",
       "      <th>1</th>\n",
       "      <td>6</td>\n",
       "      <td>0</td>\n",
       "      <td>0</td>\n",
       "      <td>0</td>\n",
       "      <td>0</td>\n",
       "      <td>0</td>\n",
       "      <td>0</td>\n",
       "      <td>0</td>\n",
       "      <td>0</td>\n",
       "      <td>0</td>\n",
       "      <td>...</td>\n",
       "      <td>0</td>\n",
       "      <td>0</td>\n",
       "      <td>0</td>\n",
       "      <td>0</td>\n",
       "      <td>0</td>\n",
       "      <td>1</td>\n",
       "      <td>0</td>\n",
       "      <td>0</td>\n",
       "      <td>0</td>\n",
       "      <td>f/american_bach_soloists-j_s__bach_solo_cantat...</td>\n",
       "    </tr>\n",
       "    <tr>\n",
       "      <th>2</th>\n",
       "      <td>10</td>\n",
       "      <td>0</td>\n",
       "      <td>0</td>\n",
       "      <td>0</td>\n",
       "      <td>0</td>\n",
       "      <td>0</td>\n",
       "      <td>0</td>\n",
       "      <td>0</td>\n",
       "      <td>0</td>\n",
       "      <td>0</td>\n",
       "      <td>...</td>\n",
       "      <td>0</td>\n",
       "      <td>0</td>\n",
       "      <td>0</td>\n",
       "      <td>0</td>\n",
       "      <td>0</td>\n",
       "      <td>0</td>\n",
       "      <td>0</td>\n",
       "      <td>0</td>\n",
       "      <td>0</td>\n",
       "      <td>f/american_bach_soloists-j_s__bach_solo_cantat...</td>\n",
       "    </tr>\n",
       "    <tr>\n",
       "      <th>3</th>\n",
       "      <td>11</td>\n",
       "      <td>0</td>\n",
       "      <td>0</td>\n",
       "      <td>0</td>\n",
       "      <td>0</td>\n",
       "      <td>0</td>\n",
       "      <td>0</td>\n",
       "      <td>0</td>\n",
       "      <td>0</td>\n",
       "      <td>0</td>\n",
       "      <td>...</td>\n",
       "      <td>0</td>\n",
       "      <td>0</td>\n",
       "      <td>0</td>\n",
       "      <td>0</td>\n",
       "      <td>0</td>\n",
       "      <td>0</td>\n",
       "      <td>0</td>\n",
       "      <td>0</td>\n",
       "      <td>0</td>\n",
       "      <td>f/american_bach_soloists-j_s__bach_solo_cantat...</td>\n",
       "    </tr>\n",
       "    <tr>\n",
       "      <th>4</th>\n",
       "      <td>12</td>\n",
       "      <td>0</td>\n",
       "      <td>0</td>\n",
       "      <td>0</td>\n",
       "      <td>0</td>\n",
       "      <td>0</td>\n",
       "      <td>0</td>\n",
       "      <td>0</td>\n",
       "      <td>0</td>\n",
       "      <td>0</td>\n",
       "      <td>...</td>\n",
       "      <td>0</td>\n",
       "      <td>0</td>\n",
       "      <td>0</td>\n",
       "      <td>0</td>\n",
       "      <td>0</td>\n",
       "      <td>0</td>\n",
       "      <td>0</td>\n",
       "      <td>0</td>\n",
       "      <td>0</td>\n",
       "      <td>f/american_bach_soloists-j_s__bach_solo_cantat...</td>\n",
       "    </tr>\n",
       "    <tr>\n",
       "      <th>5</th>\n",
       "      <td>14</td>\n",
       "      <td>0</td>\n",
       "      <td>0</td>\n",
       "      <td>0</td>\n",
       "      <td>0</td>\n",
       "      <td>0</td>\n",
       "      <td>0</td>\n",
       "      <td>0</td>\n",
       "      <td>0</td>\n",
       "      <td>0</td>\n",
       "      <td>...</td>\n",
       "      <td>0</td>\n",
       "      <td>0</td>\n",
       "      <td>0</td>\n",
       "      <td>0</td>\n",
       "      <td>0</td>\n",
       "      <td>0</td>\n",
       "      <td>0</td>\n",
       "      <td>0</td>\n",
       "      <td>0</td>\n",
       "      <td>c/lvx_nova-lvx_nova-01-contimune-30-59.mp3</td>\n",
       "    </tr>\n",
       "    <tr>\n",
       "      <th>6</th>\n",
       "      <td>19</td>\n",
       "      <td>0</td>\n",
       "      <td>0</td>\n",
       "      <td>0</td>\n",
       "      <td>0</td>\n",
       "      <td>0</td>\n",
       "      <td>0</td>\n",
       "      <td>0</td>\n",
       "      <td>0</td>\n",
       "      <td>0</td>\n",
       "      <td>...</td>\n",
       "      <td>0</td>\n",
       "      <td>0</td>\n",
       "      <td>0</td>\n",
       "      <td>0</td>\n",
       "      <td>0</td>\n",
       "      <td>0</td>\n",
       "      <td>0</td>\n",
       "      <td>0</td>\n",
       "      <td>0</td>\n",
       "      <td>c/lvx_nova-lvx_nova-01-contimune-175-204.mp3</td>\n",
       "    </tr>\n",
       "    <tr>\n",
       "      <th>7</th>\n",
       "      <td>21</td>\n",
       "      <td>0</td>\n",
       "      <td>0</td>\n",
       "      <td>0</td>\n",
       "      <td>0</td>\n",
       "      <td>0</td>\n",
       "      <td>0</td>\n",
       "      <td>0</td>\n",
       "      <td>0</td>\n",
       "      <td>0</td>\n",
       "      <td>...</td>\n",
       "      <td>0</td>\n",
       "      <td>0</td>\n",
       "      <td>0</td>\n",
       "      <td>0</td>\n",
       "      <td>0</td>\n",
       "      <td>0</td>\n",
       "      <td>0</td>\n",
       "      <td>0</td>\n",
       "      <td>0</td>\n",
       "      <td>c/lvx_nova-lvx_nova-01-contimune-233-262.mp3</td>\n",
       "    </tr>\n",
       "    <tr>\n",
       "      <th>8</th>\n",
       "      <td>23</td>\n",
       "      <td>0</td>\n",
       "      <td>0</td>\n",
       "      <td>0</td>\n",
       "      <td>0</td>\n",
       "      <td>0</td>\n",
       "      <td>0</td>\n",
       "      <td>0</td>\n",
       "      <td>0</td>\n",
       "      <td>0</td>\n",
       "      <td>...</td>\n",
       "      <td>0</td>\n",
       "      <td>0</td>\n",
       "      <td>0</td>\n",
       "      <td>0</td>\n",
       "      <td>0</td>\n",
       "      <td>0</td>\n",
       "      <td>0</td>\n",
       "      <td>0</td>\n",
       "      <td>0</td>\n",
       "      <td>c/lvx_nova-lvx_nova-01-contimune-291-320.mp3</td>\n",
       "    </tr>\n",
       "    <tr>\n",
       "      <th>9</th>\n",
       "      <td>25</td>\n",
       "      <td>0</td>\n",
       "      <td>0</td>\n",
       "      <td>0</td>\n",
       "      <td>0</td>\n",
       "      <td>0</td>\n",
       "      <td>0</td>\n",
       "      <td>0</td>\n",
       "      <td>0</td>\n",
       "      <td>0</td>\n",
       "      <td>...</td>\n",
       "      <td>0</td>\n",
       "      <td>0</td>\n",
       "      <td>0</td>\n",
       "      <td>0</td>\n",
       "      <td>0</td>\n",
       "      <td>0</td>\n",
       "      <td>0</td>\n",
       "      <td>0</td>\n",
       "      <td>0</td>\n",
       "      <td>0/american_bach_soloists-j_s__bach__cantatas_v...</td>\n",
       "    </tr>\n",
       "  </tbody>\n",
       "</table>\n",
       "<p>10 rows × 190 columns</p>\n",
       "</div>"
      ],
      "text/plain": [
       "   clip_id  no voice  singer  duet  plucking  hard rock  world  bongos  \\\n",
       "0        2         0       0     0         0          0      0       0   \n",
       "1        6         0       0     0         0          0      0       0   \n",
       "2       10         0       0     0         0          0      0       0   \n",
       "3       11         0       0     0         0          0      0       0   \n",
       "4       12         0       0     0         0          0      0       0   \n",
       "5       14         0       0     0         0          0      0       0   \n",
       "6       19         0       0     0         0          0      0       0   \n",
       "7       21         0       0     0         0          0      0       0   \n",
       "8       23         0       0     0         0          0      0       0   \n",
       "9       25         0       0     0         0          0      0       0   \n",
       "\n",
       "   harpsichord  female singing  ...  rap  metal  hip hop  quick  water  \\\n",
       "0            0               0  ...    0      0        0      0      0   \n",
       "1            0               0  ...    0      0        0      0      0   \n",
       "2            0               0  ...    0      0        0      0      0   \n",
       "3            0               0  ...    0      0        0      0      0   \n",
       "4            0               0  ...    0      0        0      0      0   \n",
       "5            0               0  ...    0      0        0      0      0   \n",
       "6            0               0  ...    0      0        0      0      0   \n",
       "7            0               0  ...    0      0        0      0      0   \n",
       "8            0               0  ...    0      0        0      0      0   \n",
       "9            0               0  ...    0      0        0      0      0   \n",
       "\n",
       "   baroque  women  fiddle  english  \\\n",
       "0        0      0       0        0   \n",
       "1        1      0       0        0   \n",
       "2        0      0       0        0   \n",
       "3        0      0       0        0   \n",
       "4        0      0       0        0   \n",
       "5        0      0       0        0   \n",
       "6        0      0       0        0   \n",
       "7        0      0       0        0   \n",
       "8        0      0       0        0   \n",
       "9        0      0       0        0   \n",
       "\n",
       "                                            mp3_path  \n",
       "0  f/american_bach_soloists-j_s__bach_solo_cantat...  \n",
       "1  f/american_bach_soloists-j_s__bach_solo_cantat...  \n",
       "2  f/american_bach_soloists-j_s__bach_solo_cantat...  \n",
       "3  f/american_bach_soloists-j_s__bach_solo_cantat...  \n",
       "4  f/american_bach_soloists-j_s__bach_solo_cantat...  \n",
       "5         c/lvx_nova-lvx_nova-01-contimune-30-59.mp3  \n",
       "6       c/lvx_nova-lvx_nova-01-contimune-175-204.mp3  \n",
       "7       c/lvx_nova-lvx_nova-01-contimune-233-262.mp3  \n",
       "8       c/lvx_nova-lvx_nova-01-contimune-291-320.mp3  \n",
       "9  0/american_bach_soloists-j_s__bach__cantatas_v...  \n",
       "\n",
       "[10 rows x 190 columns]"
      ]
     },
     "execution_count": 8,
     "metadata": {},
     "output_type": "execute_result"
    }
   ],
   "source": [
    "df.head(10)"
   ]
  },
  {
   "cell_type": "code",
   "execution_count": 6,
   "metadata": {},
   "outputs": [
    {
     "data": {
      "text/html": [
       "<div>\n",
       "<style scoped>\n",
       "    .dataframe tbody tr th:only-of-type {\n",
       "        vertical-align: middle;\n",
       "    }\n",
       "\n",
       "    .dataframe tbody tr th {\n",
       "        vertical-align: top;\n",
       "    }\n",
       "\n",
       "    .dataframe thead th {\n",
       "        text-align: right;\n",
       "    }\n",
       "</style>\n",
       "<table border=\"1\" class=\"dataframe\">\n",
       "  <thead>\n",
       "    <tr style=\"text-align: right;\">\n",
       "      <th></th>\n",
       "      <th>clip_id</th>\n",
       "      <th>track_number</th>\n",
       "      <th>title</th>\n",
       "      <th>artist</th>\n",
       "      <th>album</th>\n",
       "      <th>url</th>\n",
       "      <th>segmentStart</th>\n",
       "      <th>segmentEnd</th>\n",
       "      <th>original_url</th>\n",
       "      <th>mp3_path</th>\n",
       "    </tr>\n",
       "  </thead>\n",
       "  <tbody>\n",
       "    <tr>\n",
       "      <th>0</th>\n",
       "      <td>2</td>\n",
       "      <td>1</td>\n",
       "      <td>BWV54 - I Aria</td>\n",
       "      <td>American Bach Soloists</td>\n",
       "      <td>J.S. Bach Solo Cantatas</td>\n",
       "      <td>http://www.magnatune.com/artists/albums/abs-so...</td>\n",
       "      <td>30</td>\n",
       "      <td>59</td>\n",
       "      <td>http://he3.magnatune.com/all/01--BWV54%20-%20I...</td>\n",
       "      <td>f/american_bach_soloists-j_s__bach_solo_cantat...</td>\n",
       "    </tr>\n",
       "    <tr>\n",
       "      <th>1</th>\n",
       "      <td>6</td>\n",
       "      <td>1</td>\n",
       "      <td>BWV54 - I Aria</td>\n",
       "      <td>American Bach Soloists</td>\n",
       "      <td>J.S. Bach Solo Cantatas</td>\n",
       "      <td>http://www.magnatune.com/artists/albums/abs-so...</td>\n",
       "      <td>146</td>\n",
       "      <td>175</td>\n",
       "      <td>http://he3.magnatune.com/all/01--BWV54%20-%20I...</td>\n",
       "      <td>f/american_bach_soloists-j_s__bach_solo_cantat...</td>\n",
       "    </tr>\n",
       "    <tr>\n",
       "      <th>2</th>\n",
       "      <td>10</td>\n",
       "      <td>1</td>\n",
       "      <td>BWV54 - I Aria</td>\n",
       "      <td>American Bach Soloists</td>\n",
       "      <td>J.S. Bach Solo Cantatas</td>\n",
       "      <td>http://www.magnatune.com/artists/albums/abs-so...</td>\n",
       "      <td>262</td>\n",
       "      <td>291</td>\n",
       "      <td>http://he3.magnatune.com/all/01--BWV54%20-%20I...</td>\n",
       "      <td>f/american_bach_soloists-j_s__bach_solo_cantat...</td>\n",
       "    </tr>\n",
       "    <tr>\n",
       "      <th>3</th>\n",
       "      <td>11</td>\n",
       "      <td>1</td>\n",
       "      <td>BWV54 - I Aria</td>\n",
       "      <td>American Bach Soloists</td>\n",
       "      <td>J.S. Bach Solo Cantatas</td>\n",
       "      <td>http://www.magnatune.com/artists/albums/abs-so...</td>\n",
       "      <td>291</td>\n",
       "      <td>320</td>\n",
       "      <td>http://he3.magnatune.com/all/01--BWV54%20-%20I...</td>\n",
       "      <td>f/american_bach_soloists-j_s__bach_solo_cantat...</td>\n",
       "    </tr>\n",
       "    <tr>\n",
       "      <th>4</th>\n",
       "      <td>12</td>\n",
       "      <td>1</td>\n",
       "      <td>BWV54 - I Aria</td>\n",
       "      <td>American Bach Soloists</td>\n",
       "      <td>J.S. Bach Solo Cantatas</td>\n",
       "      <td>http://www.magnatune.com/artists/albums/abs-so...</td>\n",
       "      <td>320</td>\n",
       "      <td>349</td>\n",
       "      <td>http://he3.magnatune.com/all/01--BWV54%20-%20I...</td>\n",
       "      <td>f/american_bach_soloists-j_s__bach_solo_cantat...</td>\n",
       "    </tr>\n",
       "    <tr>\n",
       "      <th>5</th>\n",
       "      <td>14</td>\n",
       "      <td>1</td>\n",
       "      <td>Contimune</td>\n",
       "      <td>LVX Nova</td>\n",
       "      <td>LVX Nova</td>\n",
       "      <td>http://www.magnatune.com/artists/albums/lvxnov...</td>\n",
       "      <td>30</td>\n",
       "      <td>59</td>\n",
       "      <td>http://he3.magnatune.com/all/01--Contimune--LV...</td>\n",
       "      <td>c/lvx_nova-lvx_nova-01-contimune-30-59.mp3</td>\n",
       "    </tr>\n",
       "  </tbody>\n",
       "</table>\n",
       "</div>"
      ],
      "text/plain": [
       "   clip_id  track_number           title                  artist  \\\n",
       "0        2             1  BWV54 - I Aria  American Bach Soloists   \n",
       "1        6             1  BWV54 - I Aria  American Bach Soloists   \n",
       "2       10             1  BWV54 - I Aria  American Bach Soloists   \n",
       "3       11             1  BWV54 - I Aria  American Bach Soloists   \n",
       "4       12             1  BWV54 - I Aria  American Bach Soloists   \n",
       "5       14             1       Contimune                LVX Nova   \n",
       "\n",
       "                     album                                                url  \\\n",
       "0  J.S. Bach Solo Cantatas  http://www.magnatune.com/artists/albums/abs-so...   \n",
       "1  J.S. Bach Solo Cantatas  http://www.magnatune.com/artists/albums/abs-so...   \n",
       "2  J.S. Bach Solo Cantatas  http://www.magnatune.com/artists/albums/abs-so...   \n",
       "3  J.S. Bach Solo Cantatas  http://www.magnatune.com/artists/albums/abs-so...   \n",
       "4  J.S. Bach Solo Cantatas  http://www.magnatune.com/artists/albums/abs-so...   \n",
       "5                 LVX Nova  http://www.magnatune.com/artists/albums/lvxnov...   \n",
       "\n",
       "   segmentStart  segmentEnd  \\\n",
       "0            30          59   \n",
       "1           146         175   \n",
       "2           262         291   \n",
       "3           291         320   \n",
       "4           320         349   \n",
       "5            30          59   \n",
       "\n",
       "                                        original_url  \\\n",
       "0  http://he3.magnatune.com/all/01--BWV54%20-%20I...   \n",
       "1  http://he3.magnatune.com/all/01--BWV54%20-%20I...   \n",
       "2  http://he3.magnatune.com/all/01--BWV54%20-%20I...   \n",
       "3  http://he3.magnatune.com/all/01--BWV54%20-%20I...   \n",
       "4  http://he3.magnatune.com/all/01--BWV54%20-%20I...   \n",
       "5  http://he3.magnatune.com/all/01--Contimune--LV...   \n",
       "\n",
       "                                            mp3_path  \n",
       "0  f/american_bach_soloists-j_s__bach_solo_cantat...  \n",
       "1  f/american_bach_soloists-j_s__bach_solo_cantat...  \n",
       "2  f/american_bach_soloists-j_s__bach_solo_cantat...  \n",
       "3  f/american_bach_soloists-j_s__bach_solo_cantat...  \n",
       "4  f/american_bach_soloists-j_s__bach_solo_cantat...  \n",
       "5         c/lvx_nova-lvx_nova-01-contimune-30-59.mp3  "
      ]
     },
     "execution_count": 6,
     "metadata": {},
     "output_type": "execute_result"
    }
   ],
   "source": [
    "df2.head(6)"
   ]
  },
  {
   "cell_type": "markdown",
   "metadata": {},
   "source": [
    "# Ground truth Labels"
   ]
  },
  {
   "cell_type": "code",
   "execution_count": 5,
   "metadata": {
    "scrolled": true
   },
   "outputs": [
    {
     "name": "stdout",
     "output_type": "stream",
     "text": [
      "[[0 0 0 ... 0 0 0]\n",
      " [0 0 0 ... 0 0 0]\n",
      " [0 0 0 ... 0 0 0]\n",
      " ...\n",
      " [0 0 0 ... 0 0 0]\n",
      " [0 0 0 ... 0 0 0]\n",
      " [0 0 0 ... 0 0 0]] (25863, 188)\n"
     ]
    }
   ],
   "source": [
    "y=df.values[:,1:-1]\n",
    "#this y contains clip id as its first column\n",
    "print(y,y.shape)"
   ]
  },
  {
   "cell_type": "markdown",
   "metadata": {},
   "source": [
    "# Feature extraction"
   ]
  },
  {
   "cell_type": "markdown",
   "metadata": {},
   "source": [
    "1. use feature extraction methods from VGGish, preprocess.py\n",
    "2. perform transfer learning on VGGish network"
   ]
  },
  {
   "cell_type": "code",
   "execution_count": 6,
   "metadata": {},
   "outputs": [],
   "source": [
    "#split dataset into train and test set\n",
    "n=df.shape[0]\n",
    "n_test=n//4\n",
    "test_idx=np.arange(0,n_test)\n",
    "train_idx=np.arange(n_test,n)\n",
    "batch_size = 32"
   ]
  },
  {
   "cell_type": "code",
   "execution_count": 7,
   "metadata": {},
   "outputs": [],
   "source": [
    "#this takes input as batch size and output the input batch and ground truth labels\n",
    "def batchmatrix(batch_size,df,idx):\n",
    "    #idx=np.arange(0,df.shape[0])\n",
    "    np.random.shuffle(idx)\n",
    "    idx_shuffled=idx[:batch_size]\n",
    "    batchmatrix=np.zeros((batch_size,96,64))\n",
    "    batchy=np.zeros((batch_size,188))\n",
    "    for m,i in enumerate(idx_shuffled):\n",
    "        x,fs=librosa.load(df[\"mp3_path\"][i])\n",
    "        X=preprocess_sound.preprocess_sound(x, fs)\n",
    "        X_slice=X[random.randint(0,X.shape[0]-1),:,:]\n",
    "        batchmatrix[m,:,:]=X_slice\n",
    "        batchy[m,:]=df.values[i,1:-1]\n",
    "        \n",
    "    return batchmatrix,batchy"
   ]
  },
  {
   "cell_type": "markdown",
   "metadata": {},
   "source": [
    "# Transfer Learning from VGGish net"
   ]
  },
  {
   "cell_type": "code",
   "execution_count": 7,
   "metadata": {
    "scrolled": false
   },
   "outputs": [
    {
     "name": "stdout",
     "output_type": "stream",
     "text": [
      "\n",
      "WARNING: The TensorFlow contrib module will not be included in TensorFlow 2.0.\n",
      "For more information, please see:\n",
      "  * https://github.com/tensorflow/community/blob/master/rfcs/20180907-contrib-sunset.md\n",
      "  * https://github.com/tensorflow/addons\n",
      "If you depend on functionality not listed there, please file an issue.\n",
      "\n"
     ]
    }
   ],
   "source": [
    "import vggish_input\n",
    "import vggish_params\n",
    "import vggish_postprocess\n",
    "import vggish_slim\n",
    "import vggish\n",
    "import preprocess_sound\n",
    "import random"
   ]
  },
  {
   "cell_type": "code",
   "execution_count": 8,
   "metadata": {},
   "outputs": [],
   "source": [
    "from __future__ import print_function\n",
    "from keras.preprocessing.image import ImageDataGenerator\n",
    "from keras.models import Sequential\n",
    "from keras.models import load_model #save and load models\n",
    "from keras.layers import Dense, Dropout, Activation, Flatten\n",
    "from keras.layers import Conv2D, MaxPooling2D\n",
    "from keras.layers.normalization import BatchNormalization\n",
    "\n"
   ]
  },
  {
   "cell_type": "code",
   "execution_count": 32,
   "metadata": {},
   "outputs": [],
   "source": [
    "# Load VGGish model with audioset weights\n",
    "model=vggish.VGGish(load_weights=True, weights='audioset',\n",
    "           input_tensor=None, input_shape=None,\n",
    "           out_dim=None, include_top=False, pooling='avg')"
   ]
  },
  {
   "cell_type": "code",
   "execution_count": 33,
   "metadata": {},
   "outputs": [],
   "source": [
    "new_model=Sequential()\n",
    "for layer in model.layers:\n",
    "    new_model.add(layer)\n",
    "    layer.trainable=False\n",
    "    \n",
    "# Initialize model layers\n",
    "new_model.add(BatchNormalization())\n",
    "new_model.add(Dropout(0.5))\n",
    "new_model.add(Dense(512, activation = 'relu'))\n",
    "new_model.add(BatchNormalization())\n",
    "new_model.add(Dropout(0.5))\n",
    "new_model.add(Dense(188, activation='softmax'))"
   ]
  },
  {
   "cell_type": "code",
   "execution_count": 34,
   "metadata": {},
   "outputs": [],
   "source": [
    "# Compile the model\n",
    "new_model.compile(loss='binary_crossentropy', optimizer='adam', metrics=['accuracy'])"
   ]
  },
  {
   "cell_type": "code",
   "execution_count": 33,
   "metadata": {},
   "outputs": [
    {
     "name": "stdout",
     "output_type": "stream",
     "text": [
      "_________________________________________________________________\n",
      "Layer (type)                 Output Shape              Param #   \n",
      "=================================================================\n",
      "conv1 (Conv2D)               (None, 96, 64, 64)        640       \n",
      "_________________________________________________________________\n",
      "pool1 (MaxPooling2D)         (None, 48, 32, 64)        0         \n",
      "_________________________________________________________________\n",
      "conv2 (Conv2D)               (None, 48, 32, 128)       73856     \n",
      "_________________________________________________________________\n",
      "pool2 (MaxPooling2D)         (None, 24, 16, 128)       0         \n",
      "_________________________________________________________________\n",
      "conv3/conv3_1 (Conv2D)       (None, 24, 16, 256)       295168    \n",
      "_________________________________________________________________\n",
      "conv3/conv3_2 (Conv2D)       (None, 24, 16, 256)       590080    \n",
      "_________________________________________________________________\n",
      "pool3 (MaxPooling2D)         (None, 12, 8, 256)        0         \n",
      "_________________________________________________________________\n",
      "conv4/conv4_1 (Conv2D)       (None, 12, 8, 512)        1180160   \n",
      "_________________________________________________________________\n",
      "conv4/conv4_2 (Conv2D)       (None, 12, 8, 512)        2359808   \n",
      "_________________________________________________________________\n",
      "pool4 (MaxPooling2D)         (None, 6, 4, 512)         0         \n",
      "_________________________________________________________________\n",
      "global_average_pooling2d_1 ( (None, 512)               0         \n",
      "_________________________________________________________________\n",
      "batch_normalization_1 (Batch (None, 512)               2048      \n",
      "_________________________________________________________________\n",
      "dropout_1 (Dropout)          (None, 512)               0         \n",
      "_________________________________________________________________\n",
      "dense_1 (Dense)              (None, 512)               262656    \n",
      "_________________________________________________________________\n",
      "batch_normalization_2 (Batch (None, 512)               2048      \n",
      "_________________________________________________________________\n",
      "dropout_2 (Dropout)          (None, 512)               0         \n",
      "_________________________________________________________________\n",
      "dense_2 (Dense)              (None, 188)               96444     \n",
      "=================================================================\n",
      "Total params: 4,862,908\n",
      "Trainable params: 361,148\n",
      "Non-trainable params: 4,501,760\n",
      "_________________________________________________________________\n"
     ]
    }
   ],
   "source": [
    "# Model summary\n",
    "new_model.summary()"
   ]
  },
  {
   "cell_type": "markdown",
   "metadata": {},
   "source": [
    "# Batch processing"
   ]
  },
  {
   "cell_type": "markdown",
   "metadata": {},
   "source": [
    "1. using pescador to generate streamers"
   ]
  },
  {
   "cell_type": "markdown",
   "metadata": {},
   "source": [
    "just in case the feature extraction process is here"
   ]
  },
  {
   "cell_type": "code",
   "execution_count": 15,
   "metadata": {},
   "outputs": [],
   "source": [
    "def batchmatrix(batch_size,df,idx):\n",
    "    #idx=np.arange(0,df.shape[0])\n",
    "    np.random.shuffle(idx)\n",
    "    idx_shuffled=idx[:batch_size]\n",
    "    batchmatrix=np.zeros((batch_size,96,64,1))\n",
    "    batchy=np.zeros((batch_size,188))\n",
    "    for m,i in enumerate(idx_shuffled):\n",
    "        x,fs=librosa.load(df[\"mp3_path\"][i])\n",
    "        X=preprocess_sound.preprocess_sound(x, fs)\n",
    "        X_slice=X[random.randint(0,X.shape[0]-1),:,:]\n",
    "        X_slice.reshape(-1,96,64,1)\n",
    "        batchmatrix[:,m,:,:]=X_slice\n",
    "        batchy[m,:]=df.values[i,1:-1]\n",
    "    return batchmatrix,batchy"
   ]
  },
  {
   "cell_type": "markdown",
   "metadata": {},
   "source": []
  },
  {
   "cell_type": "markdown",
   "metadata": {},
   "source": [
    "version 1 where feature extraction is done on the fly"
   ]
  },
  {
   "cell_type": "code",
   "execution_count": 17,
   "metadata": {},
   "outputs": [],
   "source": [
    "def feature_sampler(df,idx):\n",
    "    \n",
    "    while True:\n",
    "        #np.random.shuffle(idx)\n",
    "        #i=idx[0]\n",
    "        i=idx\n",
    "        y=df.values[i,1:-1]\n",
    "        x,fs=librosa.load(df[\"mp3_path\"][i])\n",
    "        X=preprocess_sound.preprocess_sound(x, fs)\n",
    "        X_slice=X[random.randint(0,X.shape[0]-1),:,:]\n",
    "        #X_slice.reshape(-1,96,64,1)\n",
    "        #[:,:,None]\n",
    "        yield{'X': X_slice[:,:,None],'y': y}\n",
    "\n",
    "    \n",
    "def data_generator(batch_size, idx, active_streamers,\n",
    "                        rate, random_state=12345678):\n",
    "    seeds = []\n",
    "    for i in idx:\n",
    "        streamer = pescador.Streamer(feature_sampler, df, i)\n",
    "        seeds.append(streamer)\n",
    "\n",
    "    # Randomly shuffle the seeds\n",
    "    random.shuffle(seeds)\n",
    "\n",
    "    mux = pescador.StochasticMux(seeds, active_streamers, rate=rate, random_state=random_state)\n",
    "\n",
    "    if batch_size == 1:\n",
    "        return mux\n",
    "    else:\n",
    "        return pescador.maps.buffer_stream(mux, batch_size)\n",
    "    "
   ]
  },
  {
   "cell_type": "markdown",
   "metadata": {},
   "source": [
    "version 2 where features are stored in pickle files, and pescador read feature data immediately"
   ]
  },
  {
   "cell_type": "code",
   "execution_count": null,
   "metadata": {},
   "outputs": [],
   "source": [
    "# this takes input as batch size and output the input batch and ground truth labels\n",
    "import pickle\n",
    "def batchmatrix_pickle(df,idx, folder):\n",
    "    #idx=np.arange(0,df.shape[0])\n",
    "    #np.random.shuffle(idx)\n",
    "    #idx_shuffled=idx[:batch_size]\n",
    "    batchmatrix=np.zeros((1,96,64))\n",
    "    batchy=np.zeros((batch_size,188))\n",
    "    for m,i in enumerate(idx):\n",
    "        x,fs=librosa.load(df[\"mp3_path\"][i])\n",
    "        X=preprocess_sound.preprocess_sound(x, fs)\n",
    "        X_slice=X[random.randint(0,X.shape[0]-1),:,:]\n",
    "        batchmatrix=X_slice\n",
    "        batchy=df.values[i,1:-1]\n",
    "        output = open('./pickles/'+folder+'/'+str(i)+'.pkl', 'wb')\n",
    "        pickle.dump([batchmatrix,batchy], output)\n",
    "        output.close()\n",
    "        \n",
    "    return 0"
   ]
  },
  {
   "cell_type": "code",
   "execution_count": null,
   "metadata": {},
   "outputs": [],
   "source": [
    "# Store preprocessed features in Pickle Files \n",
    "# (RUN ONLY ONCE)\n",
    "batchmatrix_pickle(df,test_idx, test)\n",
    "batchmatrix_pickle(df,train_idx, train)"
   ]
  },
  {
   "cell_type": "code",
   "execution_count": 10,
   "metadata": {},
   "outputs": [],
   "source": [
    "import pickle\n",
    "import os\n",
    "def feature_sampler_train(df,idx):\n",
    "    \n",
    "    while True:\n",
    "        #np.random.shuffle(idx)\n",
    "        #i=idx[0]\n",
    "        train_dir='./pickles/train'\n",
    "        fname = random.choice(os.listdir(train_dir))\n",
    "        train_path = os.path.join(train_dir, fname)\n",
    "        pkl_file = open(train_path, 'rb')\n",
    "        X_slice,y = pickle.load(pkl_file)       \n",
    "        yield{'X': X_slice[:,:,None],'y': y}    \n",
    "\n",
    "\n",
    "def feature_sampler_test(df,idx):\n",
    "    \n",
    "    while True:\n",
    "        #np.random.shuffle(idx)\n",
    "        #i=idx[0]\n",
    "        test_dir='./pickles/test'\n",
    "        fname = random.choice(os.listdir(test_dir))\n",
    "        test_path = os.path.join(test_dir, fname)\n",
    "        pkl_file = open(test_path, 'rb')\n",
    "        X_slice,y = pickle.load(pkl_file)       \n",
    "        yield{'X': X_slice[:,:,None],'y': y} \n",
    "        \n",
    "\n",
    "def data_generator_train(batch_size, idx, active_streamers,\n",
    "                        rate, random_state=12345678):\n",
    "    seeds = []\n",
    "    for i in idx:\n",
    "        streamer = pescador.Streamer(feature_sampler_train, df, i)\n",
    "        seeds.append(streamer)\n",
    "\n",
    "    # Randomly shuffle the seeds\n",
    "    random.shuffle(seeds)\n",
    "\n",
    "    mux = pescador.StochasticMux(seeds, active_streamers, rate=rate, random_state=random_state)\n",
    "\n",
    "    if batch_size == 1:\n",
    "        return mux\n",
    "    else:\n",
    "        return pescador.maps.buffer_stream(mux, batch_size)\n",
    "    \n",
    "def data_generator_test(batch_size, idx, active_streamers,\n",
    "                        rate, random_state=12345678):\n",
    "    seeds = []\n",
    "    for i in idx:\n",
    "        streamer = pescador.Streamer(feature_sampler_test, df, i)\n",
    "        seeds.append(streamer)\n",
    "\n",
    "    # Randomly shuffle the seeds\n",
    "    random.shuffle(seeds)\n",
    "\n",
    "    mux = pescador.StochasticMux(seeds, active_streamers, rate=rate, random_state=random_state)\n",
    "\n",
    "    if batch_size == 1:\n",
    "        return mux\n",
    "    else:\n",
    "        return pescador.maps.buffer_stream(mux, batch_size)\n",
    "    \n"
   ]
  },
  {
   "cell_type": "markdown",
   "metadata": {},
   "source": [
    "# Train the model"
   ]
  },
  {
   "cell_type": "code",
   "execution_count": 11,
   "metadata": {},
   "outputs": [],
   "source": [
    "import pescador\n",
    "from tensorflow.python.keras.utils.data_utils import Sequence"
   ]
  },
  {
   "cell_type": "markdown",
   "metadata": {},
   "source": [
    "version 1 - taking too long"
   ]
  },
  {
   "cell_type": "code",
   "execution_count": 19,
   "metadata": {},
   "outputs": [],
   "source": [
    "epochs=12\n",
    "batch_size=32\n",
    "random_state=12345678\n",
    "active_streamers=20\n",
    "train_batches=data_generator(batch_size,train_idx,active_streamers,rate=64,random_state=random_state)\n",
    "test_batches=data_generator(batch_size,test_idx,active_streamers,rate=64,random_state=random_state)\n",
    "steps_per_epoch = len(train_idx) // batch_size"
   ]
  },
  {
   "cell_type": "markdown",
   "metadata": {},
   "source": [
    "version 2"
   ]
  },
  {
   "cell_type": "code",
   "execution_count": 35,
   "metadata": {},
   "outputs": [],
   "source": [
    "epochs=12\n",
    "batch_size=32\n",
    "random_state=12345678\n",
    "active_streamers=20\n",
    "train_batches=data_generator_train(batch_size,train_idx,active_streamers,rate=64,random_state=random_state)\n",
    "test_batches=data_generator_test(batch_size,test_idx,active_streamers,rate=64,random_state=random_state)\n",
    "steps_per_epoch = 9785 // batch_size #9785 is number of files in train folder"
   ]
  },
  {
   "cell_type": "markdown",
   "metadata": {},
   "source": [
    "common training script (following results are training with more steps per epoch, thus less loss)"
   ]
  },
  {
   "cell_type": "code",
   "execution_count": 32,
   "metadata": {
    "scrolled": true
   },
   "outputs": [
    {
     "name": "stdout",
     "output_type": "stream",
     "text": [
      "Epoch 1/12\n",
      "606/606 [==============================] - 661s 1s/step - loss: 0.0858 - acc: 0.9816 - val_loss: 0.0702 - val_acc: 0.9820\n",
      "Epoch 2/12\n",
      "606/606 [==============================] - 282s 465ms/step - loss: 0.0724 - acc: 0.9818 - val_loss: 0.0682 - val_acc: 0.9820\n",
      "Epoch 3/12\n",
      "606/606 [==============================] - 245s 405ms/step - loss: 0.0698 - acc: 0.9818 - val_loss: 0.0679 - val_acc: 0.9820\n",
      "Epoch 4/12\n",
      "606/606 [==============================] - 239s 395ms/step - loss: 0.0688 - acc: 0.9817 - val_loss: 0.0675 - val_acc: 0.9820\n",
      "Epoch 5/12\n",
      "606/606 [==============================] - 238s 392ms/step - loss: 0.0677 - acc: 0.9818 - val_loss: 0.0675 - val_acc: 0.9819\n",
      "Epoch 6/12\n",
      "606/606 [==============================] - 237s 392ms/step - loss: 0.0678 - acc: 0.9816 - val_loss: 0.0676 - val_acc: 0.9820\n",
      "Epoch 7/12\n",
      "606/606 [==============================] - 239s 394ms/step - loss: 0.0671 - acc: 0.9817 - val_loss: 0.0675 - val_acc: 0.9819\n",
      "Epoch 8/12\n",
      "606/606 [==============================] - 237s 391ms/step - loss: 0.0660 - acc: 0.9818 - val_loss: 0.0673 - val_acc: 0.9819\n",
      "Epoch 9/12\n",
      "606/606 [==============================] - 238s 392ms/step - loss: 0.0658 - acc: 0.9818 - val_loss: 0.0674 - val_acc: 0.9820\n",
      "Epoch 10/12\n",
      "606/606 [==============================] - 237s 391ms/step - loss: 0.0653 - acc: 0.9819 - val_loss: 0.0677 - val_acc: 0.9818\n",
      "Epoch 11/12\n",
      "606/606 [==============================] - 237s 391ms/step - loss: 0.0657 - acc: 0.9818 - val_loss: 0.0672 - val_acc: 0.9820\n",
      "Epoch 12/12\n",
      "606/606 [==============================] - 237s 391ms/step - loss: 0.0658 - acc: 0.9816 - val_loss: 0.0675 - val_acc: 0.9818\n"
     ]
    }
   ],
   "source": [
    "#preliminary test\n",
    "hist = new_model.fit_generator(\n",
    "        pescador.maps.keras_tuples(train_batches, 'X', 'y'),\n",
    "        steps_per_epoch=steps_per_epoch,\n",
    "        epochs=epochs,\n",
    "        validation_data=pescador.maps.keras_tuples(test_batches, 'X', 'y'),\n",
    "        validation_steps=1024,\n",
    "        verbose=1\n",
    "        )"
   ]
  },
  {
   "cell_type": "markdown",
   "metadata": {},
   "source": [
    "# Plot training accuracy and validation accuracy curves"
   ]
  },
  {
   "cell_type": "code",
   "execution_count": 38,
   "metadata": {
    "scrolled": true
   },
   "outputs": [
    {
     "data": {
      "text/plain": [
       "<matplotlib.legend.Legend at 0x7f22d4c93668>"
      ]
     },
     "execution_count": 38,
     "metadata": {},
     "output_type": "execute_result"
    },
    {
     "data": {
      "image/png": "[encoded data removed]",
      "text/plain": [
       "<Figure size 432x288 with 1 Axes>"
      ]
     },
     "metadata": {
      "needs_background": "light"
     },
     "output_type": "display_data"
    }
   ],
   "source": [
    "plt.plot(hist.history['acc'], 'o-')\n",
    "plt.plot(hist.history['val_acc'], 'o-')\n",
    "plt.grid()\n",
    "plt.xlabel('Epoch')\n",
    "plt.ylabel('Accuracy')\n",
    "plt.legend(['Train', 'Test'])"
   ]
  },
  {
   "cell_type": "markdown",
   "metadata": {},
   "source": [
    "# Alternative training"
   ]
  },
  {
   "cell_type": "markdown",
   "metadata": {},
   "source": [
    "1. same model but revised steps per epoch (accidently overwrite the training history but plot is still underneath)"
   ]
  },
  {
   "cell_type": "code",
   "execution_count": 36,
   "metadata": {
    "scrolled": false
   },
   "outputs": [
    {
     "name": "stdout",
     "output_type": "stream",
     "text": [
      "Epoch 1/12\n",
      "305/305 [==============================] - 179s 586ms/step - loss: 0.0925 - acc: 0.9814 - val_loss: 0.0727 - val_acc: 0.9821\n",
      "Epoch 2/12\n",
      "305/305 [==============================] - 175s 572ms/step - loss: 0.0774 - acc: 0.9819 - val_loss: 0.0702 - val_acc: 0.9819\n",
      "Epoch 3/12\n",
      "305/305 [==============================] - 175s 574ms/step - loss: 0.0735 - acc: 0.9819 - val_loss: 0.0695 - val_acc: 0.9819\n",
      "Epoch 4/12\n",
      "305/305 [==============================] - 176s 577ms/step - loss: 0.0710 - acc: 0.9819 - val_loss: 0.0682 - val_acc: 0.9820\n",
      "Epoch 5/12\n",
      "305/305 [==============================] - 176s 577ms/step - loss: 0.0704 - acc: 0.9817 - val_loss: 0.0681 - val_acc: 0.9820\n",
      "Epoch 6/12\n",
      "305/305 [==============================] - 174s 571ms/step - loss: 0.0691 - acc: 0.9818 - val_loss: 0.0682 - val_acc: 0.9819\n",
      "Epoch 7/12\n",
      "305/305 [==============================] - 174s 571ms/step - loss: 0.0695 - acc: 0.9816 - val_loss: 0.0678 - val_acc: 0.9820\n",
      "Epoch 8/12\n",
      "305/305 [==============================] - 176s 576ms/step - loss: 0.0694 - acc: 0.9815 - val_loss: 0.0680 - val_acc: 0.9819\n",
      "Epoch 9/12\n",
      "305/305 [==============================] - 175s 573ms/step - loss: 0.0691 - acc: 0.9814 - val_loss: 0.0680 - val_acc: 0.9819\n",
      "Epoch 10/12\n",
      "305/305 [==============================] - 176s 577ms/step - loss: 0.0693 - acc: 0.9813 - val_loss: 0.0678 - val_acc: 0.9819\n",
      "Epoch 11/12\n",
      "305/305 [==============================] - 174s 571ms/step - loss: 0.0673 - acc: 0.9816 - val_loss: 0.0679 - val_acc: 0.9818\n",
      "Epoch 12/12\n",
      "305/305 [==============================] - 176s 577ms/step - loss: 0.0676 - acc: 0.9816 - val_loss: 0.0677 - val_acc: 0.9819\n"
     ]
    }
   ],
   "source": [
    "hist2 = new_model.fit_generator(\n",
    "        pescador.maps.keras_tuples(train_batches, 'X', 'y'),\n",
    "        steps_per_epoch=steps_per_epoch,\n",
    "        epochs=epochs,\n",
    "        validation_data=pescador.maps.keras_tuples(test_batches, 'X', 'y'),\n",
    "        validation_steps=1024,\n",
    "        verbose=1\n",
    "        )"
   ]
  },
  {
   "cell_type": "code",
   "execution_count": 38,
   "metadata": {},
   "outputs": [
    {
     "data": {
      "text/plain": [
       "<matplotlib.legend.Legend at 0x7fe85d504940>"
      ]
     },
     "execution_count": 38,
     "metadata": {},
     "output_type": "execute_result"
    },
    {
     "data": {
      "image/png": "[encoded data removed]",
      "text/plain": [
       "<Figure size 432x288 with 1 Axes>"
      ]
     },
     "metadata": {
      "needs_background": "light"
     },
     "output_type": "display_data"
    }
   ],
   "source": [
    "plt.plot(hist2.history['acc'], 'o-')\n",
    "plt.plot(hist2.history['val_acc'], 'o-')\n",
    "plt.grid()\n",
    "plt.xlabel('Epoch')\n",
    "plt.ylabel('Accuracy')\n",
    "plt.legend(['Train', 'Test'])"
   ]
  },
  {
   "cell_type": "markdown",
   "metadata": {},
   "source": [
    "same model, from a previous training session"
   ]
  },
  {
   "cell_type": "code",
   "execution_count": 36,
   "metadata": {},
   "outputs": [
    {
     "data": {
      "text/plain": [
       "<matplotlib.legend.Legend at 0x7fc3d5ff2588>"
      ]
     },
     "execution_count": 36,
     "metadata": {},
     "output_type": "execute_result"
    },
    {
     "data": {
      "image/png": "[encoded data removed]",
      "text/plain": [
       "<Figure size 432x288 with 1 Axes>"
      ]
     },
     "metadata": {
      "needs_background": "light"
     },
     "output_type": "display_data"
    }
   ],
   "source": [
    "plt.plot(hist2.history['acc'], 'o-')\n",
    "plt.plot(hist2.history['val_acc'], 'o-')\n",
    "plt.grid()\n",
    "plt.xlabel('Epoch')\n",
    "plt.ylabel('Accuracy')\n",
    "plt.legend(['Train', 'Test'])"
   ]
  },
  {
   "cell_type": "markdown",
   "metadata": {},
   "source": [
    "2. add third batch normalization"
   ]
  },
  {
   "cell_type": "code",
   "execution_count": 13,
   "metadata": {},
   "outputs": [
    {
     "name": "stdout",
     "output_type": "stream",
     "text": [
      "WARNING:tensorflow:From /home/nordperdu96/miniconda3/lib/python3.7/site-packages/keras/backend/tensorflow_backend.py:3445: calling dropout (from tensorflow.python.ops.nn_ops) with keep_prob is deprecated and will be removed in a future version.\n",
      "Instructions for updating:\n",
      "Please use `rate` instead of `keep_prob`. Rate should be set to `rate = 1 - keep_prob`.\n",
      "_________________________________________________________________\n",
      "Layer (type)                 Output Shape              Param #   \n",
      "=================================================================\n",
      "conv1 (Conv2D)               (None, 96, 64, 64)        640       \n",
      "_________________________________________________________________\n",
      "pool1 (MaxPooling2D)         (None, 48, 32, 64)        0         \n",
      "_________________________________________________________________\n",
      "conv2 (Conv2D)               (None, 48, 32, 128)       73856     \n",
      "_________________________________________________________________\n",
      "pool2 (MaxPooling2D)         (None, 24, 16, 128)       0         \n",
      "_________________________________________________________________\n",
      "conv3/conv3_1 (Conv2D)       (None, 24, 16, 256)       295168    \n",
      "_________________________________________________________________\n",
      "conv3/conv3_2 (Conv2D)       (None, 24, 16, 256)       590080    \n",
      "_________________________________________________________________\n",
      "pool3 (MaxPooling2D)         (None, 12, 8, 256)        0         \n",
      "_________________________________________________________________\n",
      "conv4/conv4_1 (Conv2D)       (None, 12, 8, 512)        1180160   \n",
      "_________________________________________________________________\n",
      "conv4/conv4_2 (Conv2D)       (None, 12, 8, 512)        2359808   \n",
      "_________________________________________________________________\n",
      "pool4 (MaxPooling2D)         (None, 6, 4, 512)         0         \n",
      "_________________________________________________________________\n",
      "global_average_pooling2d_1 ( (None, 512)               0         \n",
      "_________________________________________________________________\n",
      "batch_normalization_1 (Batch (None, 512)               2048      \n",
      "_________________________________________________________________\n",
      "dropout_1 (Dropout)          (None, 512)               0         \n",
      "_________________________________________________________________\n",
      "dense_1 (Dense)              (None, 512)               262656    \n",
      "_________________________________________________________________\n",
      "batch_normalization_2 (Batch (None, 512)               2048      \n",
      "_________________________________________________________________\n",
      "dropout_2 (Dropout)          (None, 512)               0         \n",
      "_________________________________________________________________\n",
      "dense_2 (Dense)              (None, 512)               262656    \n",
      "_________________________________________________________________\n",
      "batch_normalization_3 (Batch (None, 512)               2048      \n",
      "_________________________________________________________________\n",
      "dropout_3 (Dropout)          (None, 512)               0         \n",
      "_________________________________________________________________\n",
      "dense_3 (Dense)              (None, 188)               96444     \n",
      "=================================================================\n",
      "Total params: 5,127,612\n",
      "Trainable params: 624,828\n",
      "Non-trainable params: 4,502,784\n",
      "_________________________________________________________________\n"
     ]
    }
   ],
   "source": [
    "#K.clear_session()\n",
    "new_model2=Sequential()\n",
    "for layer in model.layers:\n",
    "    new_model2.add(layer)\n",
    "    layer.trainable=False\n",
    "    \n",
    "# Initialize model layers\n",
    "new_model2.add(BatchNormalization())\n",
    "new_model2.add(Dropout(0.5))\n",
    "new_model2.add(Dense(512, activation = 'relu'))\n",
    "new_model2.add(BatchNormalization())\n",
    "new_model2.add(Dropout(0.5))\n",
    "new_model2.add(Dense(512, activation = 'relu'))\n",
    "new_model2.add(BatchNormalization())\n",
    "new_model2.add(Dropout(0.5))\n",
    "new_model2.add(Dense(188, activation='softmax'))\n",
    "new_model2.compile(loss='binary_crossentropy', optimizer='adam', metrics=['accuracy'])\n",
    "new_model2.summary()"
   ]
  },
  {
   "cell_type": "code",
   "execution_count": 14,
   "metadata": {},
   "outputs": [
    {
     "name": "stdout",
     "output_type": "stream",
     "text": [
      "WARNING:tensorflow:From /home/nordperdu96/miniconda3/lib/python3.7/site-packages/tensorflow/python/ops/math_ops.py:3066: to_int32 (from tensorflow.python.ops.math_ops) is deprecated and will be removed in a future version.\n",
      "Instructions for updating:\n",
      "Use tf.cast instead.\n",
      "Epoch 1/5\n",
      "305/305 [==============================] - 325s 1s/step - loss: 0.0935 - acc: 0.9818 - val_loss: 0.0735 - val_acc: 0.9820\n",
      "Epoch 2/5\n",
      "305/305 [==============================] - 209s 686ms/step - loss: 0.0812 - acc: 0.9815 - val_loss: 0.0698 - val_acc: 0.9821\n",
      "Epoch 3/5\n",
      "305/305 [==============================] - 189s 619ms/step - loss: 0.0758 - acc: 0.9817 - val_loss: 0.0695 - val_acc: 0.9820\n",
      "Epoch 4/5\n",
      "305/305 [==============================] - 179s 586ms/step - loss: 0.0744 - acc: 0.9815 - val_loss: 0.0687 - val_acc: 0.9819\n",
      "Epoch 5/5\n",
      "305/305 [==============================] - 175s 574ms/step - loss: 0.0716 - acc: 0.9818 - val_loss: 0.0685 - val_acc: 0.9819\n"
     ]
    }
   ],
   "source": [
    "epochs=5\n",
    "#train model with third batch normalization + dropout + dense layer\n",
    "hist3 = new_model2.fit_generator(\n",
    "        pescador.maps.keras_tuples(train_batches, 'X', 'y'),\n",
    "        steps_per_epoch=steps_per_epoch,\n",
    "        epochs=epochs,\n",
    "        validation_data=pescador.maps.keras_tuples(test_batches, 'X', 'y'),\n",
    "        validation_steps=1024,\n",
    "        verbose=1\n",
    "        )"
   ]
  },
  {
   "cell_type": "code",
   "execution_count": 15,
   "metadata": {},
   "outputs": [
    {
     "data": {
      "text/plain": [
       "<matplotlib.legend.Legend at 0x7fe484143ba8>"
      ]
     },
     "execution_count": 15,
     "metadata": {},
     "output_type": "execute_result"
    },
    {
     "data": {
      "image/png": "[encoded data removed]",
      "text/plain": [
       "<Figure size 432x288 with 1 Axes>"
      ]
     },
     "metadata": {
      "needs_background": "light"
     },
     "output_type": "display_data"
    }
   ],
   "source": [
    "plt.plot(hist3.history['acc'], 'o-')\n",
    "plt.plot(hist3.history['val_acc'], 'o-')\n",
    "plt.grid()\n",
    "plt.xlabel('Epoch')\n",
    "plt.ylabel('Accuracy')\n",
    "plt.legend(['Train', 'Test'])"
   ]
  },
  {
   "cell_type": "markdown",
   "metadata": {},
   "source": [
    "(3a. change optimizer/ change learning rate) but adam already optimized learning rate and seemed to be the most reliable optimizer\n",
    "3b. change back to 2 dropout layers and add an autopool"
   ]
  },
  {
   "cell_type": "code",
   "execution_count": 27,
   "metadata": {
    "scrolled": true
   },
   "outputs": [
    {
     "name": "stdout",
     "output_type": "stream",
     "text": [
      "_________________________________________________________________\n",
      "Layer (type)                 Output Shape              Param #   \n",
      "=================================================================\n",
      "conv1 (Conv2D)               (None, 96, 64, 64)        640       \n",
      "_________________________________________________________________\n",
      "pool1 (MaxPooling2D)         (None, 48, 32, 64)        0         \n",
      "_________________________________________________________________\n",
      "conv2 (Conv2D)               (None, 48, 32, 128)       73856     \n",
      "_________________________________________________________________\n",
      "pool2 (MaxPooling2D)         (None, 24, 16, 128)       0         \n",
      "_________________________________________________________________\n",
      "conv3/conv3_1 (Conv2D)       (None, 24, 16, 256)       295168    \n",
      "_________________________________________________________________\n",
      "conv3/conv3_2 (Conv2D)       (None, 24, 16, 256)       590080    \n",
      "_________________________________________________________________\n",
      "pool3 (MaxPooling2D)         (None, 12, 8, 256)        0         \n",
      "_________________________________________________________________\n",
      "conv4/conv4_1 (Conv2D)       (None, 12, 8, 512)        1180160   \n",
      "_________________________________________________________________\n",
      "conv4/conv4_2 (Conv2D)       (None, 12, 8, 512)        2359808   \n",
      "_________________________________________________________________\n",
      "auto_pool1d_2 (AutoPool1D)   (None, 8, 512)            512       \n",
      "_________________________________________________________________\n",
      "batch_normalization_1 (Batch (None, 8, 512)            2048      \n",
      "_________________________________________________________________\n",
      "dropout_1 (Dropout)          (None, 8, 512)            0         \n",
      "_________________________________________________________________\n",
      "dense_1 (Dense)              (None, 8, 512)            262656    \n",
      "_________________________________________________________________\n",
      "auto_pool1d_3 (AutoPool1D)   (None, 512)               512       \n",
      "_________________________________________________________________\n",
      "batch_normalization_2 (Batch (None, 512)               2048      \n",
      "_________________________________________________________________\n",
      "dropout_2 (Dropout)          (None, 512)               0         \n",
      "_________________________________________________________________\n",
      "dense_2 (Dense)              (None, 188)               96444     \n",
      "=================================================================\n",
      "Total params: 4,863,932\n",
      "Trainable params: 362,172\n",
      "Non-trainable params: 4,501,760\n",
      "_________________________________________________________________\n"
     ]
    }
   ],
   "source": [
    "import autopool\n",
    "new_model3=Sequential()\n",
    "i=0\n",
    "for layer in model.layers:\n",
    "    if i<10:\n",
    "        new_model3.add(layer)\n",
    "        layer.trainable=False\n",
    "    i+=1\n",
    "    \n",
    "# Initialize model layers\n",
    "new_model3.add(autopool.AutoPool1D(axis=1, kernel_constraint=keras.constraints.non_neg()))\n",
    "\n",
    "new_model3.add(BatchNormalization())\n",
    "new_model3.add(Dropout(0.5))\n",
    "new_model3.add(Dense(512, activation = 'relu'))\n",
    "new_model3.add(autopool.AutoPool1D(axis=1, kernel_constraint=keras.constraints.non_neg()))\n",
    "new_model3.add(BatchNormalization())\n",
    "new_model3.add(Dropout(0.5))\n",
    "new_model3.add(Dense(188, activation='softmax'))\n",
    "new_model3.compile(loss='binary_crossentropy', optimizer='adam', metrics=['accuracy'])\n",
    "new_model3.summary()"
   ]
  },
  {
   "cell_type": "code",
   "execution_count": 28,
   "metadata": {},
   "outputs": [
    {
     "name": "stdout",
     "output_type": "stream",
     "text": [
      "Epoch 1/5\n",
      "305/305 [==============================] - 181s 593ms/step - loss: 0.0902 - acc: 0.9818 - val_loss: 0.0740 - val_acc: 0.9820\n",
      "Epoch 2/5\n",
      "305/305 [==============================] - 176s 578ms/step - loss: 0.0782 - acc: 0.9817 - val_loss: 0.0704 - val_acc: 0.9821\n",
      "Epoch 3/5\n",
      "305/305 [==============================] - 176s 576ms/step - loss: 0.0740 - acc: 0.9816 - val_loss: 0.0698 - val_acc: 0.9819\n",
      "Epoch 4/5\n",
      "305/305 [==============================] - 176s 577ms/step - loss: 0.0708 - acc: 0.9818 - val_loss: 0.0684 - val_acc: 0.9821\n",
      "Epoch 5/5\n",
      "305/305 [==============================] - 175s 575ms/step - loss: 0.0706 - acc: 0.9816 - val_loss: 0.0693 - val_acc: 0.9819\n"
     ]
    }
   ],
   "source": [
    "epochs=5\n",
    "#train model with third batch normalization + dropout + dense layer\n",
    "hist3 = new_model3.fit_generator(\n",
    "        pescador.maps.keras_tuples(train_batches, 'X', 'y'),\n",
    "        steps_per_epoch=steps_per_epoch,\n",
    "        epochs=epochs,\n",
    "        validation_data=pescador.maps.keras_tuples(test_batches, 'X', 'y'),\n",
    "        validation_steps=1024,\n",
    "        verbose=1\n",
    "        )"
   ]
  },
  {
   "cell_type": "code",
   "execution_count": 29,
   "metadata": {},
   "outputs": [
    {
     "data": {
      "text/plain": [
       "<matplotlib.legend.Legend at 0x7fe43c0c55f8>"
      ]
     },
     "execution_count": 29,
     "metadata": {},
     "output_type": "execute_result"
    },
    {
     "data": {
      "image/png": "[encoded data removed]",
      "text/plain": [
       "<Figure size 432x288 with 1 Axes>"
      ]
     },
     "metadata": {
      "needs_background": "light"
     },
     "output_type": "display_data"
    }
   ],
   "source": [
    "plt.plot(hist3.history['acc'], 'o-')\n",
    "plt.plot(hist3.history['val_acc'], 'o-')\n",
    "plt.grid()\n",
    "plt.xlabel('Epoch')\n",
    "plt.ylabel('Accuracy')\n",
    "plt.legend(['Train', 'Test'])"
   ]
  },
  {
   "cell_type": "code",
   "execution_count": null,
   "metadata": {},
   "outputs": [],
   "source": [
    "#sanity check\n",
    "pkl_file = open('./pickles/test/2588.pkl', 'rb')\n",
    "X_san,y_san = pickle.load(pkl_file)       \n",
    "yhat=new_model.predict(X_san,batch_size=32)\n",
    "#print('prediction error is',np.sum(y_san-yhat))"
   ]
  },
  {
   "cell_type": "code",
   "execution_count": null,
   "metadata": {},
   "outputs": [],
   "source": []
  }
 ],
 "metadata": {
  "kernelspec": {
   "display_name": "Python 3",
   "language": "python",
   "name": "python3"
  },
  "language_info": {
   "codemirror_mode": {
    "name": "ipython",
    "version": 3
   },
   "file_extension": ".py",
   "mimetype": "text/x-python",
   "name": "python",
   "nbconvert_exporter": "python",
   "pygments_lexer": "ipython3",
   "version": "3.7.3"
  }
 },
 "nbformat": 4,
 "nbformat_minor": 2
}
